{
 "cells": [
  {
   "cell_type": "code",
   "execution_count": 176,
   "metadata": {},
   "outputs": [],
   "source": [
    "%matplotlib inline\n",
    "import pandas as pd\n",
    "import matplotlib.pyplot as plt\n",
    "from datetime import datetime, date, timedelta\n",
    "from statsmodels.tsa.arima_model import ARIMA\n"
   ]
  },
  {
   "cell_type": "code",
   "execution_count": 5,
   "metadata": {},
   "outputs": [],
   "source": [
    "d = pd.read_csv(\"/Users/daron/Downloads/CTL Conversation Start Timestamps, 2015 and up, rounded down to nearest minute.csv - CTL Conversation Start Timestamps, 2015 and up, rounded down to nearest minute.csv.csv\")"
   ]
  },
  {
   "cell_type": "code",
   "execution_count": 6,
   "metadata": {},
   "outputs": [
    {
     "data": {
      "text/html": [
       "<div>\n",
       "<style>\n",
       "    .dataframe thead tr:only-child th {\n",
       "        text-align: right;\n",
       "    }\n",
       "\n",
       "    .dataframe thead th {\n",
       "        text-align: left;\n",
       "    }\n",
       "\n",
       "    .dataframe tbody tr th {\n",
       "        vertical-align: top;\n",
       "    }\n",
       "</style>\n",
       "<table border=\"1\" class=\"dataframe\">\n",
       "  <thead>\n",
       "    <tr style=\"text-align: right;\">\n",
       "      <th></th>\n",
       "      <th>conv_start_est</th>\n",
       "    </tr>\n",
       "  </thead>\n",
       "  <tbody>\n",
       "    <tr>\n",
       "      <th>0</th>\n",
       "      <td>2015-01-01 0:03:00</td>\n",
       "    </tr>\n",
       "    <tr>\n",
       "      <th>1</th>\n",
       "      <td>2015-01-01 0:07:00</td>\n",
       "    </tr>\n",
       "    <tr>\n",
       "      <th>2</th>\n",
       "      <td>2015-01-01 0:19:00</td>\n",
       "    </tr>\n",
       "    <tr>\n",
       "      <th>3</th>\n",
       "      <td>2015-01-01 0:24:00</td>\n",
       "    </tr>\n",
       "    <tr>\n",
       "      <th>4</th>\n",
       "      <td>2015-01-01 0:34:00</td>\n",
       "    </tr>\n",
       "  </tbody>\n",
       "</table>\n",
       "</div>"
      ],
      "text/plain": [
       "       conv_start_est\n",
       "0  2015-01-01 0:03:00\n",
       "1  2015-01-01 0:07:00\n",
       "2  2015-01-01 0:19:00\n",
       "3  2015-01-01 0:24:00\n",
       "4  2015-01-01 0:34:00"
      ]
     },
     "execution_count": 6,
     "metadata": {},
     "output_type": "execute_result"
    }
   ],
   "source": [
    "d.head()"
   ]
  },
  {
   "cell_type": "code",
   "execution_count": 7,
   "metadata": {},
   "outputs": [
    {
     "data": {
      "text/html": [
       "<div>\n",
       "<style>\n",
       "    .dataframe thead tr:only-child th {\n",
       "        text-align: right;\n",
       "    }\n",
       "\n",
       "    .dataframe thead th {\n",
       "        text-align: left;\n",
       "    }\n",
       "\n",
       "    .dataframe tbody tr th {\n",
       "        vertical-align: top;\n",
       "    }\n",
       "</style>\n",
       "<table border=\"1\" class=\"dataframe\">\n",
       "  <thead>\n",
       "    <tr style=\"text-align: right;\">\n",
       "      <th></th>\n",
       "      <th>conv_start_est</th>\n",
       "    </tr>\n",
       "  </thead>\n",
       "  <tbody>\n",
       "    <tr>\n",
       "      <th>1119336</th>\n",
       "      <td>2017-08-27 3:18:00</td>\n",
       "    </tr>\n",
       "    <tr>\n",
       "      <th>1119337</th>\n",
       "      <td>2017-08-27 3:19:00</td>\n",
       "    </tr>\n",
       "    <tr>\n",
       "      <th>1119338</th>\n",
       "      <td>2017-08-27 3:19:00</td>\n",
       "    </tr>\n",
       "    <tr>\n",
       "      <th>1119339</th>\n",
       "      <td>2017-08-27 3:19:00</td>\n",
       "    </tr>\n",
       "    <tr>\n",
       "      <th>1119340</th>\n",
       "      <td>2017-08-27 3:20:00</td>\n",
       "    </tr>\n",
       "  </tbody>\n",
       "</table>\n",
       "</div>"
      ],
      "text/plain": [
       "             conv_start_est\n",
       "1119336  2017-08-27 3:18:00\n",
       "1119337  2017-08-27 3:19:00\n",
       "1119338  2017-08-27 3:19:00\n",
       "1119339  2017-08-27 3:19:00\n",
       "1119340  2017-08-27 3:20:00"
      ]
     },
     "execution_count": 7,
     "metadata": {},
     "output_type": "execute_result"
    }
   ],
   "source": [
    "d.tail()"
   ]
  },
  {
   "cell_type": "code",
   "execution_count": 9,
   "metadata": {},
   "outputs": [
    {
     "data": {
      "text/plain": [
       "str"
      ]
     },
     "execution_count": 9,
     "metadata": {},
     "output_type": "execute_result"
    }
   ],
   "source": [
    "type(d.conv_start_est[1])"
   ]
  },
  {
   "cell_type": "code",
   "execution_count": 24,
   "metadata": {
    "collapsed": true
   },
   "outputs": [],
   "source": [
    "d['ts'] = d['conv_start_est'].apply(lambda x: datetime.strptime(x, '%Y-%m-%d %H:%M:%S'))"
   ]
  },
  {
   "cell_type": "code",
   "execution_count": 27,
   "metadata": {},
   "outputs": [],
   "source": [
    "d['month'] = d['ts'].apply(lambda x: x.month)"
   ]
  },
  {
   "cell_type": "code",
   "execution_count": 31,
   "metadata": {},
   "outputs": [],
   "source": [
    "d['year'] = d['ts'].apply(lambda x: x.year)"
   ]
  },
  {
   "cell_type": "code",
   "execution_count": 61,
   "metadata": {},
   "outputs": [],
   "source": [
    "d['dt'] = d['ts'].apply(lambda x: datetime(x.year, x.month, 1))"
   ]
  },
  {
   "cell_type": "code",
   "execution_count": 156,
   "metadata": {},
   "outputs": [],
   "source": [
    "d['week_start'] = d['ts'].dt.to_period('W').apply(lambda r: r.start_time)"
   ]
  },
  {
   "cell_type": "code",
   "execution_count": 157,
   "metadata": {},
   "outputs": [
    {
     "data": {
      "text/html": [
       "<div>\n",
       "<style>\n",
       "    .dataframe thead tr:only-child th {\n",
       "        text-align: right;\n",
       "    }\n",
       "\n",
       "    .dataframe thead th {\n",
       "        text-align: left;\n",
       "    }\n",
       "\n",
       "    .dataframe tbody tr th {\n",
       "        vertical-align: top;\n",
       "    }\n",
       "</style>\n",
       "<table border=\"1\" class=\"dataframe\">\n",
       "  <thead>\n",
       "    <tr style=\"text-align: right;\">\n",
       "      <th></th>\n",
       "      <th>conv_start_est</th>\n",
       "      <th>ts</th>\n",
       "      <th>month</th>\n",
       "      <th>year</th>\n",
       "      <th>seq</th>\n",
       "      <th>dt</th>\n",
       "      <th>week_start</th>\n",
       "    </tr>\n",
       "  </thead>\n",
       "  <tbody>\n",
       "    <tr>\n",
       "      <th>0</th>\n",
       "      <td>2015-01-01 0:03:00</td>\n",
       "      <td>2015-01-01 00:03:00</td>\n",
       "      <td>1</td>\n",
       "      <td>2015</td>\n",
       "      <td>0</td>\n",
       "      <td>2015-01-01</td>\n",
       "      <td>2014-12-29</td>\n",
       "    </tr>\n",
       "    <tr>\n",
       "      <th>1</th>\n",
       "      <td>2015-01-01 0:07:00</td>\n",
       "      <td>2015-01-01 00:07:00</td>\n",
       "      <td>1</td>\n",
       "      <td>2015</td>\n",
       "      <td>1</td>\n",
       "      <td>2015-01-01</td>\n",
       "      <td>2014-12-29</td>\n",
       "    </tr>\n",
       "    <tr>\n",
       "      <th>2</th>\n",
       "      <td>2015-01-01 0:19:00</td>\n",
       "      <td>2015-01-01 00:19:00</td>\n",
       "      <td>1</td>\n",
       "      <td>2015</td>\n",
       "      <td>2</td>\n",
       "      <td>2015-01-01</td>\n",
       "      <td>2014-12-29</td>\n",
       "    </tr>\n",
       "    <tr>\n",
       "      <th>3</th>\n",
       "      <td>2015-01-01 0:24:00</td>\n",
       "      <td>2015-01-01 00:24:00</td>\n",
       "      <td>1</td>\n",
       "      <td>2015</td>\n",
       "      <td>3</td>\n",
       "      <td>2015-01-01</td>\n",
       "      <td>2014-12-29</td>\n",
       "    </tr>\n",
       "    <tr>\n",
       "      <th>4</th>\n",
       "      <td>2015-01-01 0:34:00</td>\n",
       "      <td>2015-01-01 00:34:00</td>\n",
       "      <td>1</td>\n",
       "      <td>2015</td>\n",
       "      <td>4</td>\n",
       "      <td>2015-01-01</td>\n",
       "      <td>2014-12-29</td>\n",
       "    </tr>\n",
       "  </tbody>\n",
       "</table>\n",
       "</div>"
      ],
      "text/plain": [
       "       conv_start_est                  ts  month  year  seq         dt  \\\n",
       "0  2015-01-01 0:03:00 2015-01-01 00:03:00      1  2015    0 2015-01-01   \n",
       "1  2015-01-01 0:07:00 2015-01-01 00:07:00      1  2015    1 2015-01-01   \n",
       "2  2015-01-01 0:19:00 2015-01-01 00:19:00      1  2015    2 2015-01-01   \n",
       "3  2015-01-01 0:24:00 2015-01-01 00:24:00      1  2015    3 2015-01-01   \n",
       "4  2015-01-01 0:34:00 2015-01-01 00:34:00      1  2015    4 2015-01-01   \n",
       "\n",
       "  week_start  \n",
       "0 2014-12-29  \n",
       "1 2014-12-29  \n",
       "2 2014-12-29  \n",
       "3 2014-12-29  \n",
       "4 2014-12-29  "
      ]
     },
     "execution_count": 157,
     "metadata": {},
     "output_type": "execute_result"
    }
   ],
   "source": [
    "d.head()"
   ]
  },
  {
   "cell_type": "code",
   "execution_count": 33,
   "metadata": {},
   "outputs": [],
   "source": [
    "totals = d.groupby(['month', 'year']).count().reset_index()"
   ]
  },
  {
   "cell_type": "code",
   "execution_count": 56,
   "metadata": {},
   "outputs": [],
   "source": [
    "totals = totals.sort_values(['year', 'month'])"
   ]
  },
  {
   "cell_type": "code",
   "execution_count": 165,
   "metadata": {},
   "outputs": [
    {
     "data": {
      "image/png": "[encoded data removed]",
      "text/plain": [
       "<matplotlib.figure.Figure at 0x1174fbbe0>"
      ]
     },
     "metadata": {},
     "output_type": "display_data"
    }
   ],
   "source": [
    "fig, ax = plt.subplots(figsize=(10,6))\n",
    "ax.plot([x for x in tots.index], tots.flt)\n",
    "plt.show()"
   ]
  },
  {
   "cell_type": "code",
   "execution_count": 43,
   "metadata": {},
   "outputs": [
    {
     "data": {
      "image/png": "[encoded data removed]",
      "text/plain": [
       "<matplotlib.figure.Figure at 0x125b0fa58>"
      ]
     },
     "metadata": {},
     "output_type": "display_data"
    }
   ],
   "source": [
    "fig, ax = plt.subplots(figsize=(10,6))\n",
    "for x in totals.year.unique():\n",
    "    df = totals[totals['year'] == x]\n",
    "    ax.plot(df.month, df.adj)\n",
    "plt.show()"
   ]
  },
  {
   "cell_type": "code",
   "execution_count": 41,
   "metadata": {},
   "outputs": [],
   "source": [
    "totals['adj'] = totals['ts']\n",
    "totals['adj'][29] = (totals['adj'][27]+totals['adj'][31])/2\n",
    "totals['adj'][]"
   ]
  },
  {
   "cell_type": "code",
   "execution_count": 52,
   "metadata": {
    "collapsed": true
   },
   "outputs": [],
   "source": [
    "totals['seq'] = range(len(totals))"
   ]
  },
  {
   "cell_type": "code",
   "execution_count": 159,
   "metadata": {
    "collapsed": true
   },
   "outputs": [],
   "source": [
    "# tots = d.groupby('dt').count()\n",
    "tots = d.groupby('week_start').count()"
   ]
  },
  {
   "cell_type": "code",
   "execution_count": 160,
   "metadata": {},
   "outputs": [],
   "source": [
    "tots['flt'] = tots['conv_start_est'].astype(float)"
   ]
  },
  {
   "cell_type": "code",
   "execution_count": 161,
   "metadata": {},
   "outputs": [
    {
     "name": "stdout",
     "output_type": "stream",
     "text": [
      "                             ARIMA Model Results                              \n",
      "==============================================================================\n",
      "Dep. Variable:                  D.flt   No. Observations:                  138\n",
      "Model:                 ARIMA(5, 1, 0)   Log Likelihood               -1233.043\n",
      "Method:                       css-mle   S.D. of innovations           1827.704\n",
      "Date:                Tue, 29 Aug 2017   AIC                           2480.086\n",
      "Time:                        21:11:46   BIC                           2500.577\n",
      "Sample:                    01-05-2015   HQIC                          2488.413\n",
      "                         - 08-21-2017                                         \n",
      "===============================================================================\n",
      "                  coef    std err          z      P>|z|      [0.025      0.975]\n",
      "-------------------------------------------------------------------------------\n",
      "const         123.2450     54.242      2.272      0.025      16.933     229.557\n",
      "ar.L1.D.flt    -0.3671      0.080     -4.591      0.000      -0.524      -0.210\n",
      "ar.L2.D.flt    -0.4463      0.083     -5.371      0.000      -0.609      -0.283\n",
      "ar.L3.D.flt    -0.3005      0.091     -3.311      0.001      -0.478      -0.123\n",
      "ar.L4.D.flt    -0.3907      0.089     -4.410      0.000      -0.564      -0.217\n",
      "ar.L5.D.flt    -0.4083      0.097     -4.195      0.000      -0.599      -0.218\n",
      "                                    Roots                                    \n",
      "=============================================================================\n",
      "                 Real           Imaginary           Modulus         Frequency\n",
      "-----------------------------------------------------------------------------\n",
      "AR.1            0.7007           -0.8956j            1.1372           -0.1443\n",
      "AR.2            0.7007           +0.8956j            1.1372            0.1443\n",
      "AR.3           -0.4982           -1.0689j            1.1793           -0.3194\n",
      "AR.4           -0.4982           +1.0689j            1.1793            0.3194\n",
      "AR.5           -1.3618           -0.0000j            1.3618           -0.5000\n",
      "-----------------------------------------------------------------------------\n"
     ]
    }
   ],
   "source": [
    "model = ARIMA(tots['flt'], order=(5,1,0))\n",
    "model_fit = model.fit(disp=0)\n",
    "print(model_fit.summary())"
   ]
  },
  {
   "cell_type": "code",
   "execution_count": 162,
   "metadata": {},
   "outputs": [
    {
     "data": {
      "text/plain": [
       "<matplotlib.axes._subplots.AxesSubplot at 0x11e6a6f28>"
      ]
     },
     "execution_count": 162,
     "metadata": {},
     "output_type": "execute_result"
    },
    {
     "data": {
      "image/png": "[encoded data removed]",
      "text/plain": [
       "<matplotlib.figure.Figure at 0x11e4f2eb8>"
      ]
     },
     "metadata": {},
     "output_type": "display_data"
    }
   ],
   "source": [
    "residuals = pd.DataFrame(model_fit.resid)\n",
    "residuals.plot()"
   ]
  },
  {
   "cell_type": "code",
   "execution_count": 163,
   "metadata": {
    "scrolled": true
   },
   "outputs": [
    {
     "data": {
      "text/plain": [
       "<matplotlib.axes._subplots.AxesSubplot at 0x109f63400>"
      ]
     },
     "execution_count": 163,
     "metadata": {},
     "output_type": "execute_result"
    },
    {
     "data": {
      "image/png": "[encoded data removed]",
      "text/plain": [
       "<matplotlib.figure.Figure at 0x11e5741d0>"
      ]
     },
     "metadata": {},
     "output_type": "display_data"
    }
   ],
   "source": [
    "residuals.plot(kind='kde')"
   ]
  },
  {
   "cell_type": "code",
   "execution_count": 221,
   "metadata": {},
   "outputs": [
    {
     "name": "stdout",
     "output_type": "stream",
     "text": [
      "predicted=17755.980670, expected=14382.000000\n",
      "predicted=16994.000744, expected=17030.000000\n",
      "predicted=17348.727771, expected=26160.000000\n",
      "predicted=17363.594160, expected=25891.000000\n",
      "predicted=16984.248632, expected=17306.000000\n",
      "predicted=17363.331900, expected=13885.000000\n",
      "predicted=17745.135392, expected=13593.000000\n",
      "predicted=17767.134163, expected=14109.000000\n",
      "predicted=17863.979993, expected=19719.000000\n",
      "predicted=18044.570471, expected=25222.000000\n",
      "predicted=18108.182151, expected=16266.000000\n",
      "predicted=18201.770005, expected=23049.000000\n",
      "predicted=18367.918608, expected=16681.000000\n",
      "predicted=18500.821047, expected=13305.000000\n",
      "predicted=18611.373055, expected=10000.000000\n",
      "predicted=18743.836248, expected=10500.000000\n",
      "predicted=18870.413518, expected=11000.000000\n",
      "predicted=18986.018224, expected=11500.000000\n",
      "predicted=19111.285390, expected=12000.000000\n",
      "predicted=19240.089146, expected=12500.000000\n",
      "predicted=19363.320433, expected=13000.000000\n",
      "predicted=19487.443613, expected=13500.000000\n",
      "predicted=19613.455358, expected=14000.000000\n",
      "predicted=19737.516644, expected=14500.000000\n",
      "predicted=19861.329978, expected=15000.000000\n",
      "predicted=19986.430750, expected=15500.000000\n",
      "predicted=20111.230542, expected=16000.000000\n",
      "predicted=20235.601174, expected=16500.000000\n",
      "predicted=20360.338922, expected=17000.000000\n",
      "predicted=20485.072769, expected=17500.000000\n",
      "predicted=20609.565072, expected=18000.000000\n"
     ]
    }
   ],
   "source": [
    "X = tots['flt']\n",
    "size = int(len(X) * .9)\n",
    "train, test = X[0:size], X[size:len(X)]\n",
    "# test['2017-09-01'] = 60000\n",
    "# test['2017-10-01'] = 70000\n",
    "# test['2017-11-01'] = 80000\n",
    "# test['2017-12-01'] = 90000\n",
    "for q in range(17):\n",
    "    test[datetime.strftime(date(2017,8,21)+timedelta(days=7*q+1), '%Y-%m-%d %H:%M:%S')] = 10000+q*500\n",
    "history = [x for x in train]\n",
    "predictions = list()\n",
    "model = ARIMA(history, order=(5,1,0))\n",
    "model_fit = model.fit(disp=0)\n",
    "output = model_fit.forecast(steps=31)\n",
    "for t in range(len(output[0])):\n",
    "\tyhat = output[0][t]\n",
    "\tpredictions.append(yhat)\n",
    "\tobs = test[t]\n",
    "\thistory.append(obs)\n",
    "\tprint('predicted=%f, expected=%f' % (yhat, obs))"
   ]
  },
  {
   "cell_type": "code",
   "execution_count": 222,
   "metadata": {},
   "outputs": [
    {
     "data": {
      "image/png": "[encoded data removed]",
      "text/plain": [
       "<matplotlib.figure.Figure at 0x11e5d5048>"
      ]
     },
     "metadata": {},
     "output_type": "display_data"
    }
   ],
   "source": [
    "fig, ax = plt.subplots(figsize=(10,6))\n",
    "# ax.plot([x for x in tots.index], tots['flt'])\n",
    "# ax.plot([x for x in test[:4].index], test[:4])\n",
    "# ax.plot([x for x in test.index], test)\n",
    "ax.plot([x for x in test.index], predictions)\n",
    "plt.show()"
   ]
  },
  {
   "cell_type": "code",
   "execution_count": 220,
   "metadata": {},
   "outputs": [
    {
     "data": {
      "text/plain": [
       "week_start\n",
       "2017-05-22 00:00:00    14382.0\n",
       "2017-05-29 00:00:00    17030.0\n",
       "2017-06-05 00:00:00    26160.0\n",
       "2017-06-12 00:00:00    25891.0\n",
       "2017-06-19 00:00:00    17306.0\n",
       "2017-06-26 00:00:00    13885.0\n",
       "2017-07-03 00:00:00    13593.0\n",
       "2017-07-10 00:00:00    14109.0\n",
       "2017-07-17 00:00:00    19719.0\n",
       "2017-07-24 00:00:00    25222.0\n",
       "2017-07-31 00:00:00    16266.0\n",
       "2017-08-07 00:00:00    23049.0\n",
       "2017-08-14 00:00:00    16681.0\n",
       "2017-08-21 00:00:00    13305.0\n",
       "2017-08-22 00:00:00    10000.0\n",
       "2017-08-29 00:00:00    10500.0\n",
       "2017-09-05 00:00:00    11000.0\n",
       "2017-09-12 00:00:00    11500.0\n",
       "2017-09-19 00:00:00    12000.0\n",
       "2017-09-26 00:00:00    12500.0\n",
       "2017-10-03 00:00:00    13000.0\n",
       "2017-10-10 00:00:00    13500.0\n",
       "2017-10-17 00:00:00    14000.0\n",
       "2017-10-24 00:00:00    14500.0\n",
       "2017-10-31 00:00:00    15000.0\n",
       "2017-11-07 00:00:00    15500.0\n",
       "2017-11-14 00:00:00    16000.0\n",
       "2017-11-21 00:00:00    16500.0\n",
       "2017-11-28 00:00:00    17000.0\n",
       "2017-12-05 00:00:00    17500.0\n",
       "2017-12-12 00:00:00    18000.0\n",
       "Name: flt, dtype: float64"
      ]
     },
     "execution_count": 220,
     "metadata": {},
     "output_type": "execute_result"
    }
   ],
   "source": [
    "test"
   ]
  },
  {
   "cell_type": "code",
   "execution_count": 191,
   "metadata": {},
   "outputs": [
    {
     "data": {
      "text/plain": [
       "'2017-12-25 00:00:00'"
      ]
     },
     "execution_count": 191,
     "metadata": {},
     "output_type": "execute_result"
    }
   ],
   "source": [
    "datetime.strftime(date(2017,8,21)+timedelta(days=7*18), '%Y-%m-%d %H:%M:%S')"
   ]
  },
  {
   "cell_type": "code",
   "execution_count": 109,
   "metadata": {},
   "outputs": [
    {
     "data": {
      "text/plain": [
       "(array([ 69692.34518519]),\n",
       " array([ 4881.72681215]),\n",
       " array([[ 60124.33645101,  79260.35391937]]))"
      ]
     },
     "execution_count": 109,
     "metadata": {},
     "output_type": "execute_result"
    }
   ],
   "source": [
    "output"
   ]
  },
  {
   "cell_type": "code",
   "execution_count": 119,
   "metadata": {},
   "outputs": [],
   "source": []
  },
  {
   "cell_type": "code",
   "execution_count": 120,
   "metadata": {},
   "outputs": [
    {
     "data": {
      "text/plain": [
       "dt\n",
       "2017-05-01 00:00:00    68759.0\n",
       "2017-06-01 00:00:00    88008.0\n",
       "2017-07-01 00:00:00    79142.0\n",
       "2017-08-01 00:00:00    66610.0\n",
       "2017-09-01                 0.0\n",
       "Name: flt, dtype: float64"
      ]
     },
     "execution_count": 120,
     "metadata": {},
     "output_type": "execute_result"
    }
   ],
   "source": [
    "test"
   ]
  },
  {
   "cell_type": "code",
   "execution_count": 136,
   "metadata": {},
   "outputs": [
    {
     "data": {
      "text/plain": [
       "[Timestamp('2015-01-01 00:00:00'),\n",
       " Timestamp('2015-02-01 00:00:00'),\n",
       " Timestamp('2015-03-01 00:00:00'),\n",
       " Timestamp('2015-04-01 00:00:00'),\n",
       " Timestamp('2015-05-01 00:00:00'),\n",
       " Timestamp('2015-06-01 00:00:00'),\n",
       " Timestamp('2015-07-01 00:00:00'),\n",
       " Timestamp('2015-08-01 00:00:00'),\n",
       " Timestamp('2015-09-01 00:00:00'),\n",
       " Timestamp('2015-10-01 00:00:00'),\n",
       " Timestamp('2015-11-01 00:00:00'),\n",
       " Timestamp('2015-12-01 00:00:00'),\n",
       " Timestamp('2016-01-01 00:00:00'),\n",
       " Timestamp('2016-02-01 00:00:00'),\n",
       " Timestamp('2016-03-01 00:00:00'),\n",
       " Timestamp('2016-04-01 00:00:00'),\n",
       " Timestamp('2016-05-01 00:00:00'),\n",
       " Timestamp('2016-06-01 00:00:00'),\n",
       " Timestamp('2016-07-01 00:00:00'),\n",
       " Timestamp('2016-08-01 00:00:00'),\n",
       " Timestamp('2016-09-01 00:00:00'),\n",
       " Timestamp('2016-10-01 00:00:00'),\n",
       " Timestamp('2016-11-01 00:00:00'),\n",
       " Timestamp('2016-12-01 00:00:00'),\n",
       " Timestamp('2017-01-01 00:00:00'),\n",
       " Timestamp('2017-02-01 00:00:00'),\n",
       " Timestamp('2017-03-01 00:00:00'),\n",
       " Timestamp('2017-04-01 00:00:00')]"
      ]
     },
     "execution_count": 136,
     "metadata": {},
     "output_type": "execute_result"
    }
   ],
   "source": [
    "[x for x in train.index]"
   ]
  },
  {
   "cell_type": "code",
   "execution_count": 190,
   "metadata": {},
   "outputs": [
    {
     "data": {
      "text/plain": [
       "week_start\n",
       "2017-05-22 00:00:00     14382.0\n",
       "2017-05-29 00:00:00     17030.0\n",
       "2017-06-05 00:00:00     26160.0\n",
       "2017-06-12 00:00:00     25891.0\n",
       "2017-06-19 00:00:00     17306.0\n",
       "2017-06-26 00:00:00     13885.0\n",
       "2017-07-03 00:00:00     13593.0\n",
       "2017-07-10 00:00:00     14109.0\n",
       "2017-07-17 00:00:00     19719.0\n",
       "2017-07-24 00:00:00     25222.0\n",
       "2017-07-31 00:00:00     16266.0\n",
       "2017-08-07 00:00:00     23049.0\n",
       "2017-08-14 00:00:00     16681.0\n",
       "2017-08-21 00:00:00     13305.0\n",
       "2017-08-22              70000.0\n",
       "2017-08-29              80000.0\n",
       "2017-09-05              90000.0\n",
       "2017-09-12             100000.0\n",
       "2017-09-19             110000.0\n",
       "2017-09-26             120000.0\n",
       "2017-10-03             130000.0\n",
       "2017-10-10             140000.0\n",
       "2017-10-17             150000.0\n",
       "2017-10-24             160000.0\n",
       "2017-10-31             170000.0\n",
       "2017-11-07             180000.0\n",
       "2017-11-14             190000.0\n",
       "2017-11-21             200000.0\n",
       "2017-11-28             210000.0\n",
       "2017-12-05             220000.0\n",
       "2017-12-12             230000.0\n",
       "Name: flt, dtype: float64"
      ]
     },
     "execution_count": 190,
     "metadata": {},
     "output_type": "execute_result"
    }
   ],
   "source": [
    "test"
   ]
  },
  {
   "cell_type": "code",
   "execution_count": null,
   "metadata": {
    "collapsed": true
   },
   "outputs": [],
   "source": []
  }
 ],
 "metadata": {
  "kernelspec": {
   "display_name": "Python 3",
   "language": "python",
   "name": "python3"
  },
  "language_info": {
   "codemirror_mode": {
    "name": "ipython",
    "version": 3
   },
   "file_extension": ".py",
   "mimetype": "text/x-python",
   "name": "python",
   "nbconvert_exporter": "python",
   "pygments_lexer": "ipython3",
   "version": "3.5.0"
  }
 },
 "nbformat": 4,
 "nbformat_minor": 2
}
